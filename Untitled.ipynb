{
 "cells": [
  {
   "cell_type": "code",
   "execution_count": 2,
   "metadata": {},
   "outputs": [],
   "source": [
    "import sqlalchemy as sa\n",
    "from sqlalchemy.ext.declarative import declarative_base\n",
    "from sqlalchemy.orm import scoped_session, sessionmaker, relationship, backref\n",
    "\n",
    "engine = sa.create_engine(\"sqlite:///:memory:\")\n",
    "session = scoped_session(sessionmaker(bind=engine))\n",
    "Base = declarative_base()\n",
    "\n",
    "\n"
   ]
  },
  {
   "cell_type": "code",
   "execution_count": 3,
   "metadata": {},
   "outputs": [
    {
     "name": "stdout",
     "output_type": "stream",
     "text": [
      "<class 'sqlalchemy.ext.declarative.api.Base'>\n"
     ]
    }
   ],
   "source": [
    "print(Base)"
   ]
  },
  {
   "cell_type": "code",
   "execution_count": 4,
   "metadata": {},
   "outputs": [],
   "source": [
    "class Author(Base):\n",
    "    __tablename__ = \"authors\"\n",
    "    id = sa.Column(sa.Integer, primary_key=True)\n",
    "    name = sa.Column(sa.String)\n",
    "\n",
    "    def __repr__(self):\n",
    "        return \"<Author(name={self.name!r})>\".format(self=self)\n",
    "\n",
    "\n",
    "class Book(Base):\n",
    "    __tablename__ = \"books\"\n",
    "    id = sa.Column(sa.Integer, primary_key=True)\n",
    "    title = sa.Column(sa.String)\n",
    "    author_id = sa.Column(sa.Integer, sa.ForeignKey(\"authors.id\"))\n",
    "    author = relationship(\"Author\", backref=backref(\"books\"))\n",
    "\n",
    "\n",
    "Base.metadata.create_all(engine)\n"
   ]
  },
  {
   "cell_type": "code",
   "execution_count": null,
   "metadata": {},
   "outputs": [],
   "source": []
  }
 ],
 "metadata": {
  "kernelspec": {
   "display_name": "Python 3",
   "language": "python",
   "name": "python3"
  },
  "language_info": {
   "codemirror_mode": {
    "name": "ipython",
    "version": 3
   },
   "file_extension": ".py",
   "mimetype": "text/x-python",
   "name": "python",
   "nbconvert_exporter": "python",
   "pygments_lexer": "ipython3",
   "version": "3.7.3"
  }
 },
 "nbformat": 4,
 "nbformat_minor": 2
}
