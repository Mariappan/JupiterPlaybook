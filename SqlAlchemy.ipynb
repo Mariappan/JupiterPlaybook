{
 "cells": [
  {
   "cell_type": "markdown",
   "metadata": {},
   "source": [
    "# SQLAlchemy"
   ]
  },
  {
   "cell_type": "code",
   "execution_count": 1,
   "metadata": {},
   "outputs": [],
   "source": [
    "import sqlalchemy as sa\n",
    "from sqlalchemy.ext.declarative import declarative_base\n",
    "from sqlalchemy.orm import scoped_session, sessionmaker, relationship, backref\n",
    "\n",
    "engine = sa.create_engine(\"sqlite:///:memory:\")\n",
    "session = scoped_session(sessionmaker(bind=engine))\n",
    "Base = declarative_base()"
   ]
  },
  {
   "cell_type": "code",
   "execution_count": 2,
   "metadata": {},
   "outputs": [
    {
     "name": "stdout",
     "output_type": "stream",
     "text": [
      "<class 'sqlalchemy.ext.declarative.api.Base'>\n"
     ]
    }
   ],
   "source": [
    "# Printing the base\n",
    "print(Base)"
   ]
  },
  {
   "cell_type": "code",
   "execution_count": null,
   "metadata": {},
   "outputs": [],
   "source": [
    "# Declare All Models\n",
    "\n",
    "class Author(Base):\n",
    "    __tablename__ = \"authors\"\n",
    "    id = sa.Column(sa.Integer, primary_key=True)\n",
    "    name = sa.Column(sa.String)\n",
    "\n",
    "    def __repr__(self):\n",
    "        return \"<Author(name={self.name!r})>\".format(self=self)\n",
    "\n",
    "\n",
    "class Book(Base):\n",
    "    __tablename__ = \"books\"\n",
    "    id = sa.Column(sa.Integer, primary_key=True)\n",
    "    title = sa.Column(sa.String)\n",
    "    author_id = sa.Column(sa.Integer, sa.ForeignKey(\"authors.id\"))\n",
    "    author = relationship(\"Author\", backref=backref(\"books\"))\n",
    "\n",
    "\n",
    "Base.metadata.create_all(engine)\n"
   ]
  },
  {
   "cell_type": "code",
   "execution_count": 4,
   "metadata": {},
   "outputs": [],
   "source": [
    "import logging\n",
    "logging.getLogger('sqlalchemy.engine').setLevel(logging.INFO)"
   ]
  },
  {
   "cell_type": "code",
   "execution_count": 5,
   "metadata": {},
   "outputs": [],
   "source": [
    "author = Author(name=\"Dennis Ritchie\")\n",
    "b1 = Book(title=\"C\", author=author)\n",
    "b2 = Book(title=\"D\", author=author)\n",
    "b3 = Book(title=\"E\", author=author)\n",
    "b4 = Book(title=\"F\", author=author)\n",
    "\n",
    "session.add(author)\n",
    "\n",
    "session.add(b1)\n",
    "session.add(b2)\n",
    "session.add(b3)\n",
    "session.add(b4)\n",
    "\n",
    "session.commit()"
   ]
  },
  {
   "cell_type": "code",
   "execution_count": 7,
   "metadata": {},
   "outputs": [
    {
     "name": "stdout",
     "output_type": "stream",
     "text": [
      "C\n",
      "D\n",
      "E\n",
      "F\n"
     ]
    }
   ],
   "source": [
    "books = session.query(Book).all()\n",
    "for book in books:\n",
    "    print(f\"{book.title}\")"
   ]
  },
  {
   "cell_type": "code",
   "execution_count": null,
   "metadata": {},
   "outputs": [],
   "source": []
  }
 ],
 "metadata": {
  "kernelspec": {
   "display_name": "Python 3",
   "language": "python",
   "name": "python3"
  },
  "language_info": {
   "codemirror_mode": {
    "name": "ipython",
    "version": 3
   },
   "file_extension": ".py",
   "mimetype": "text/x-python",
   "name": "python",
   "nbconvert_exporter": "python",
   "pygments_lexer": "ipython3",
   "version": "3.7.3"
  }
 },
 "nbformat": 4,
 "nbformat_minor": 2
}
